{
 "cells": [
  {
   "cell_type": "code",
   "execution_count": 1,
   "id": "fc0b6178-b4ff-4025-a16b-c5704c54cb13",
   "metadata": {},
   "outputs": [],
   "source": [
    "from dssat_run import run_district"
   ]
  },
  {
   "cell_type": "code",
   "execution_count": 24,
   "id": "aeed084d-6b0a-4213-acf4-e78f76ad210a",
   "metadata": {},
   "outputs": [],
   "source": [
    "yield_results = {}"
   ]
  },
  {
   "cell_type": "markdown",
   "id": "106c9f5d-287e-4dbe-b4f1-94ceb4261b12",
   "metadata": {},
   "source": [
    "# Ideal case (No stress)"
   ]
  },
  {
   "cell_type": "code",
   "execution_count": 43,
   "id": "103165a3-faed-4b7c-b543-493ef726837d",
   "metadata": {},
   "outputs": [
    {
     "name": "stdout",
     "output_type": "stream",
     "text": [
      "CPU times: user 108 ms, sys: 31.9 ms, total: 140 ms\n",
      "Wall time: 2.21 s\n"
     ]
    }
   ],
   "source": [
    "%%time\n",
    "# Turn off Water and Nitrogen Switches\n",
    "sim_controls = {\n",
    "    \"WATER\": \"N\", \"NITRO\": \"N\"\n",
    "}\n",
    "df, overview = run_district(\"Chivi\", 2020, sim_controls=sim_controls)\n",
    "yield_results[\"No stress\"] = df"
   ]
  },
  {
   "cell_type": "markdown",
   "id": "46a6d075-a6c7-4271-b5ec-717724d7d80a",
   "metadata": {},
   "source": [
    "# Only water Stress (no nitrogen stress)"
   ]
  },
  {
   "cell_type": "code",
   "execution_count": 44,
   "id": "a11c2ff7-5252-46fe-986b-7edc08673410",
   "metadata": {},
   "outputs": [
    {
     "name": "stdout",
     "output_type": "stream",
     "text": [
      "CPU times: user 109 ms, sys: 16.7 ms, total: 125 ms\n",
      "Wall time: 3.03 s\n"
     ]
    }
   ],
   "source": [
    "%%time\n",
    "sim_controls = {\n",
    "    \"WATER\": \"Y\", \"NITRO\": \"N\"\n",
    "}\n",
    "df, overview = run_district(\"Chivi\", 2020, sim_controls=sim_controls)\n",
    "yield_results[\"Only water stress\"] = df"
   ]
  },
  {
   "cell_type": "markdown",
   "id": "964bcbd2-b392-4e00-8485-b3bed9b5449c",
   "metadata": {},
   "source": [
    "# Rainfed"
   ]
  },
  {
   "cell_type": "code",
   "execution_count": 45,
   "id": "aaa94dca-086d-4b25-a36a-866066489516",
   "metadata": {},
   "outputs": [
    {
     "name": "stdout",
     "output_type": "stream",
     "text": [
      "CPU times: user 109 ms, sys: 16.7 ms, total: 126 ms\n",
      "Wall time: 3.28 s\n"
     ]
    }
   ],
   "source": [
    "%%time\n",
    "sim_controls = {\n",
    "    \"WATER\": \"Y\", \"NITRO\": \"Y\"\n",
    "}\n",
    "df, overview = run_district(\"Chivi\", 2020, sim_controls=sim_controls)\n",
    "yield_results[\"Rainfed\"] = df"
   ]
  },
  {
   "cell_type": "markdown",
   "id": "2f667e92-9ee7-4b6d-965e-37c1a70675d8",
   "metadata": {},
   "source": [
    "# Automatic irrigation"
   ]
  },
  {
   "cell_type": "markdown",
   "id": "afe7ce58-8cb1-4e83-a633-014eaad52f85",
   "metadata": {},
   "source": [
    "## refill from 25%"
   ]
  },
  {
   "cell_type": "code",
   "execution_count": 46,
   "id": "2a2abea7-3560-4272-b2d2-50e354f2bef6",
   "metadata": {},
   "outputs": [
    {
     "name": "stdout",
     "output_type": "stream",
     "text": [
      "CPU times: user 97.1 ms, sys: 36.7 ms, total: 134 ms\n",
      "Wall time: 3.35 s\n"
     ]
    }
   ],
   "source": [
    "%%time\n",
    "sim_controls = {\n",
    "    \"WATER\": \"Y\", \"NITRO\": \"Y\",\n",
    "    \"IRRIG\": \"A\", \"IMDEP\": 30, \"ITHRL\": 25, \"ITHRU\": 100\n",
    "}\n",
    "df, overview = run_district(\"Chivi\", 2020, sim_controls=sim_controls)\n",
    "yield_results[\"Irrigation (25%)\"] = df"
   ]
  },
  {
   "cell_type": "markdown",
   "id": "9e4f3932-6a9b-4a8d-9674-89ac65653fc2",
   "metadata": {},
   "source": [
    "## Refill from 50%"
   ]
  },
  {
   "cell_type": "code",
   "execution_count": 47,
   "id": "5d7428de-b13c-4233-90d8-f6cfbc1afbf0",
   "metadata": {},
   "outputs": [
    {
     "name": "stdout",
     "output_type": "stream",
     "text": [
      "CPU times: user 113 ms, sys: 19.3 ms, total: 132 ms\n",
      "Wall time: 3.33 s\n"
     ]
    }
   ],
   "source": [
    "%%time\n",
    "sim_controls = {\n",
    "    \"WATER\": \"Y\", \"NITRO\": \"Y\",\n",
    "    \"IRRIG\": \"A\", \"IMDEP\": 30, \"ITHRL\": 50, \"ITHRU\": 100\n",
    "}\n",
    "df, overview = run_district(\"Chivi\", 2020, sim_controls=sim_controls)\n",
    "yield_results[\"Irrigation (50%)\"] = df"
   ]
  },
  {
   "cell_type": "markdown",
   "id": "75929782-90ea-4792-8c89-29906a6984d5",
   "metadata": {},
   "source": [
    "## Refill from 75%"
   ]
  },
  {
   "cell_type": "code",
   "execution_count": 48,
   "id": "b2646449-ba72-424d-89ae-5f0dceb57117",
   "metadata": {},
   "outputs": [
    {
     "name": "stdout",
     "output_type": "stream",
     "text": [
      "CPU times: user 110 ms, sys: 24.4 ms, total: 134 ms\n",
      "Wall time: 3.29 s\n"
     ]
    }
   ],
   "source": [
    "%%time\n",
    "sim_controls = {\n",
    "    \"WATER\": \"Y\", \"NITRO\": \"Y\",\n",
    "    \"IRRIG\": \"A\", \"IMDEP\": 30, \"ITHRL\": 75, \"ITHRU\": 100\n",
    "}\n",
    "df, overview = run_district(\"Chivi\", 2020, sim_controls=sim_controls)\n",
    "yield_results[\"Irrigation (75%)\"] = df"
   ]
  },
  {
   "cell_type": "markdown",
   "id": "94f31ed8-38fe-4593-b12a-ea135eb9f51f",
   "metadata": {},
   "source": [
    "# Apply Nitrogen (No irrigation)\n",
    "\n",
    "Under Zimbabwean conditions Maize generally requires 70 kg/ha [(FAO)](https://www.fao.org/4/a0395e/a0395e0a.htm)\n",
    "## 25% recommended"
   ]
  },
  {
   "cell_type": "code",
   "execution_count": 49,
   "id": "a6865569-4f5e-4e57-aef6-eb667ac4cd48",
   "metadata": {},
   "outputs": [
    {
     "name": "stdout",
     "output_type": "stream",
     "text": [
      "CPU times: user 95.5 ms, sys: 28.3 ms, total: 124 ms\n",
      "Wall time: 3.37 s\n"
     ]
    }
   ],
   "source": [
    "%%time\n",
    "n_rate_base = 70\n",
    "sim_controls = {\n",
    "    \"WATER\": \"Y\", \"NITRO\": \"Y\",\n",
    "}\n",
    "df, overview = run_district(\"Chivi\", 2020, n_rate_base*.25, sim_controls=sim_controls)\n",
    "yield_results[\"Fertilizer (25%)\"] = df"
   ]
  },
  {
   "cell_type": "markdown",
   "id": "77bcf675-d4dc-48ea-bcfe-fb060c225367",
   "metadata": {},
   "source": [
    "## 50% recommended"
   ]
  },
  {
   "cell_type": "code",
   "execution_count": 50,
   "id": "90894890-e4c8-4fa8-8074-462343e6f74d",
   "metadata": {},
   "outputs": [
    {
     "name": "stdout",
     "output_type": "stream",
     "text": [
      "CPU times: user 93.8 ms, sys: 35.6 ms, total: 129 ms\n",
      "Wall time: 3.35 s\n"
     ]
    }
   ],
   "source": [
    "%%time\n",
    "sim_controls = {\n",
    "    \"WATER\": \"Y\", \"NITRO\": \"Y\",\n",
    "}\n",
    "df, overview = run_district(\"Chivi\", 2020, n_rate_base*.50, sim_controls=sim_controls)\n",
    "yield_results[\"Fertilizer (50%)\"] = df"
   ]
  },
  {
   "cell_type": "markdown",
   "id": "e884f57d-0782-4271-8080-85a9e11fcf94",
   "metadata": {},
   "source": [
    "## 100% recommended"
   ]
  },
  {
   "cell_type": "code",
   "execution_count": 51,
   "id": "f65e96d7-6303-49fe-9743-b2dbb3adef8f",
   "metadata": {},
   "outputs": [
    {
     "name": "stdout",
     "output_type": "stream",
     "text": [
      "CPU times: user 77.6 ms, sys: 32.6 ms, total: 110 ms\n",
      "Wall time: 3.37 s\n"
     ]
    }
   ],
   "source": [
    "%%time\n",
    "sim_controls = {\n",
    "    \"WATER\": \"Y\", \"NITRO\": \"Y\",\n",
    "}\n",
    "df, overview = run_district(\"Chivi\", 2020, n_rate_base*1., sim_controls=sim_controls)\n",
    "yield_results[\"Fertilizer (100%)\"] = df"
   ]
  },
  {
   "cell_type": "markdown",
   "id": "c5afdccb-b175-42db-8767-95b4278b698e",
   "metadata": {},
   "source": [
    "# Plot results"
   ]
  },
  {
   "cell_type": "code",
   "execution_count": 52,
   "id": "24ebd732-5113-4924-9eb1-66a33e03244c",
   "metadata": {},
   "outputs": [],
   "source": [
    "from matplotlib import pyplot as plt\n",
    "import numpy as np"
   ]
  },
  {
   "cell_type": "code",
   "execution_count": 53,
   "id": "89e00d24-8bfb-43b4-88cd-98beae3c91dc",
   "metadata": {},
   "outputs": [
    {
     "data": {
      "text/plain": [
       "''"
      ]
     },
     "execution_count": 53,
     "metadata": {},
     "output_type": "execute_result"
    },
    {
     "data": {
      "image/png": "[encoded data removed]",
      "text/plain": [
       "<Figure size 500x600 with 1 Axes>"
      ]
     },
     "metadata": {},
     "output_type": "display_data"
    }
   ],
   "source": [
    "fig, ax = plt.subplots(1, 1, figsize=(5, 6))\n",
    "for n, (case, df) in enumerate(yield_results.items()):\n",
    "    ax.boxplot(\n",
    "        x=df.HARWT.astype(int),\n",
    "        vert=False, positions=[n], widths=.5\n",
    "    )\n",
    "ax.set_yticklabels(yield_results.keys())\n",
    "ax.set_xticks(np.arange(0, 4001, 1000), minor=False)\n",
    "ax.grid(linestyle='-', which=\"major\", axis=\"x\")\n",
    "ax.set_xticks(np.arange(0, 4001, 200), minor=True)\n",
    "ax.grid(linestyle=':', which=\"minor\", axis=\"x\")\n",
    "ax.set_xlabel(\"Maize yield (kg/ha)\")\n",
    "ax.set_title(\"2020/2021 maize yield for different\\nscenarios in the Chivi district\")\n",
    ";"
   ]
  },
  {
   "cell_type": "code",
   "execution_count": null,
   "id": "80571f55-4107-4af0-b0c5-344adb16980c",
   "metadata": {},
   "outputs": [],
   "source": []
  }
 ],
 "metadata": {
  "kernelspec": {
   "display_name": "Python 3 (ipykernel)",
   "language": "python",
   "name": "python3"
  },
  "language_info": {
   "codemirror_mode": {
    "name": "ipython",
    "version": 3
   },
   "file_extension": ".py",
   "mimetype": "text/x-python",
   "name": "python",
   "nbconvert_exporter": "python",
   "pygments_lexer": "ipython3",
   "version": "3.10.12"
  }
 },
 "nbformat": 4,
 "nbformat_minor": 5
}
